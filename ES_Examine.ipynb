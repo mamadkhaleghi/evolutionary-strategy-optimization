{
 "cells": [
  {
   "cell_type": "markdown",
   "metadata": {},
   "source": [
    "# ES "
   ]
  },
  {
   "cell_type": "code",
   "execution_count": 1,
   "metadata": {},
   "outputs": [],
   "source": [
    "from evolutionary_strategy import *"
   ]
  },
  {
   "cell_type": "markdown",
   "metadata": {},
   "source": [
    "# F1"
   ]
  },
  {
   "cell_type": "code",
   "execution_count": 77,
   "metadata": {},
   "outputs": [],
   "source": [
    "min_bound = -5\n",
    "max_bound = 10"
   ]
  },
  {
   "cell_type": "code",
   "execution_count": 78,
   "metadata": {},
   "outputs": [],
   "source": [
    "def objective_function(dat, n): # F1\n",
    "    \n",
    "    dat = dat[:n]\n",
    "    \n",
    "    summation = 0\n",
    "    for i in range(n-1):\n",
    "        temp = dat[i]-1\n",
    "        temp = temp**2\n",
    "        temp_1 = dat[i+1]-dat[i]**2\n",
    "        temp_1 = temp_1**2\n",
    "        temp_1 *= 100\n",
    "        summation += (temp + temp_1)\n",
    "        \n",
    "    return -summation"
   ]
  },
  {
   "cell_type": "code",
   "execution_count": 39,
   "metadata": {},
   "outputs": [
    {
     "name": "stderr",
     "output_type": "stream",
     "text": [
      "100%|██████████| 1000/1000 [00:12<00:00, 79.94it/s]"
     ]
    },
    {
     "name": "stdout",
     "output_type": "stream",
     "text": [
      "best solution: [ 0.96723356  0.92743071  0.83526145  0.60054092  0.44473989  0.08768454\n",
      "  0.08174772  0.06873879  0.0344652   0.05406517  0.09521563 -0.06274882\n",
      "  0.06280996  0.12146486 -0.09374589  0.0984091   0.10200206 -0.02914953\n",
      "  0.05043387 -0.04022605  0.05        0.06142378  0.05        0.05\n",
      "  0.05        0.08053062  0.1247882   0.0691516   0.05632988  0.09210305\n",
      "  0.06715298  0.05399476  0.0916989   0.05        0.14301224  0.05\n",
      "  0.05        0.09415778  0.07694923  0.11622485]\n",
      "############################################################\n",
      " objective function: 23.991663192786454\n"
     ]
    },
    {
     "name": "stderr",
     "output_type": "stream",
     "text": [
      "\n"
     ]
    }
   ],
   "source": [
    "n = 20                     #F1\n",
    "num_generations = 1000\n",
    "miu = 1\n",
    "lam = 10\n",
    "\n",
    "best_solution = ES( miu, lam, n, num_generations)\n",
    "\n",
    "print(f\"best solution: {best_solution}\" )\n",
    "      \n",
    "print(\"############################################################\")\n",
    "print(f\" objective function: {-objective_function(best_solution, n)}\")"
   ]
  },
  {
   "cell_type": "code",
   "execution_count": 40,
   "metadata": {},
   "outputs": [
    {
     "name": "stderr",
     "output_type": "stream",
     "text": [
      "100%|██████████| 1000/1000 [02:35<00:00,  6.44it/s]"
     ]
    },
    {
     "name": "stdout",
     "output_type": "stream",
     "text": [
      "best solution: [-1.0129217   0.96406516  1.00953854  1.00769019  0.98079878  1.00906078\n",
      "  1.00850405  1.00508229  1.00699654  0.83115242  0.83708908  0.67076019\n",
      "  0.405132    0.14202929 -0.05756191  0.10623211 -0.00464871  0.04402347\n",
      "  0.01889918  0.02798965  0.05        0.05        0.05        0.05\n",
      "  0.05350917  0.05        0.06217318  0.06410119  0.074781    0.06447183\n",
      "  0.05        0.05        0.07413794  0.1034437   0.05        0.06162318\n",
      "  0.06926042  0.07431041  0.05345179  0.05      ]\n",
      "############################################################\n",
      " objective function: 19.32702615201832\n"
     ]
    },
    {
     "name": "stderr",
     "output_type": "stream",
     "text": [
      "\n"
     ]
    }
   ],
   "source": [
    "n = 20                          #F1\n",
    "num_generations = 1000\n",
    "miu = 5\n",
    "lam = 35\n",
    "\n",
    "best_solution = ES( miu, lam, n, num_generations)\n",
    "\n",
    "print(f\"best solution: {best_solution}\" )\n",
    "      \n",
    "print(\"############################################################\")\n",
    "print(f\" objective function: {-objective_function(best_solution, n)}\")"
   ]
  },
  {
   "cell_type": "code",
   "execution_count": 41,
   "metadata": {},
   "outputs": [
    {
     "name": "stderr",
     "output_type": "stream",
     "text": [
      "100%|██████████| 1000/1000 [09:45<00:00,  1.71it/s]"
     ]
    },
    {
     "name": "stdout",
     "output_type": "stream",
     "text": [
      "best solution: [0.93262366 0.99175967 0.98277761 0.99435283 0.99334193 0.98541923\n",
      " 0.95426626 0.96005535 0.99863743 0.99467106 0.97571781 0.92758562\n",
      " 0.8831406  0.78242544 0.71164264 0.44467947 0.17071661 0.04254901\n",
      " 0.05574625 0.07837718 0.05       0.05       0.05       0.05\n",
      " 0.05       0.05       0.05       0.05       0.05       0.05272275\n",
      " 0.05       0.06244219 0.05       0.05       0.05       0.05\n",
      " 0.08636612 0.05       0.05       0.05      ]\n",
      "############################################################\n",
      " objective function: 7.849223131388945\n"
     ]
    },
    {
     "name": "stderr",
     "output_type": "stream",
     "text": [
      "\n"
     ]
    }
   ],
   "source": [
    "n = 20                          #F1\n",
    "num_generations = 1000\n",
    "miu = 10\n",
    "lam = 70\n",
    "\n",
    "best_solution = ES( miu, lam, n, num_generations)\n",
    "\n",
    "print(f\"best solution: {best_solution}\" )\n",
    "      \n",
    "print(\"############################################################\")\n",
    "print(f\" objective function: {-objective_function(best_solution, n)}\")"
   ]
  },
  {
   "cell_type": "code",
   "execution_count": 79,
   "metadata": {},
   "outputs": [
    {
     "name": "stderr",
     "output_type": "stream",
     "text": [
      "100%|██████████| 100/100 [06:03<00:00,  3.64s/it]"
     ]
    },
    {
     "name": "stdout",
     "output_type": "stream",
     "text": [
      "best solution: [ 0.94494336  0.90008797  0.85371497  0.72294248  0.55025377  0.26389975\n",
      "  0.06668115 -0.04810545  0.01393138 -0.0091804   0.02170253  0.01046568\n",
      "  0.01880009  0.00103898 -0.02018273  0.01351741  0.04403889  0.03374453\n",
      "  0.01451289  0.07419477  0.05915207  0.06042135  0.05527088  0.05\n",
      "  0.05035192  0.05        0.05        0.09356979  0.05        0.08516496\n",
      "  0.05        0.06885046  0.05        0.05        0.05        0.08315069\n",
      "  0.05        0.05007511  0.05        0.05      ]\n",
      "############################################################\n",
      " objective function: 15.278624191212089\n"
     ]
    },
    {
     "name": "stderr",
     "output_type": "stream",
     "text": [
      "\n"
     ]
    }
   ],
   "source": [
    "n = 20                          #F1\n",
    "num_generations = 100\n",
    "miu = 25\n",
    "lam = 175\n",
    "\n",
    "best_solution = ES( miu, lam, n, num_generations)\n",
    "\n",
    "print(f\"best solution: {best_solution}\" )\n",
    "      \n",
    "print(\"############################################################\")\n",
    "print(f\" objective function: {-objective_function(best_solution, n)}\")"
   ]
  },
  {
   "cell_type": "markdown",
   "metadata": {},
   "source": [
    "# F2"
   ]
  },
  {
   "cell_type": "code",
   "execution_count": 43,
   "metadata": {},
   "outputs": [],
   "source": [
    "min_bound = -2\n",
    "max_bound = 2"
   ]
  },
  {
   "cell_type": "code",
   "execution_count": 72,
   "metadata": {},
   "outputs": [],
   "source": [
    "def objective_function(dat, n):  # F2\n",
    "    \n",
    "    dat = dat[:n]\n",
    "    \n",
    "    temp_1 = (  4  -  (2.1*dat[0]**2)  +  ( (dat[0]**4) /3)  ) * dat[0]**2\n",
    "    temp_2 = dat[0]*dat[1]\n",
    "    temp_3 = (-4 + 4*dat[1]**2)*dat[1]**2\n",
    "    \n",
    "    \n",
    "    return -(temp_1 + temp_2 + temp_3)"
   ]
  },
  {
   "cell_type": "code",
   "execution_count": 73,
   "metadata": {},
   "outputs": [
    {
     "name": "stderr",
     "output_type": "stream",
     "text": [
      "100%|██████████| 10/10 [00:00<00:00, 101.25it/s]"
     ]
    },
    {
     "name": "stdout",
     "output_type": "stream",
     "text": [
      "best solution: [-0.12568971  0.68763757  0.19783092  0.13738227]\n",
      "############################################################\n",
      " objective function: -1.0208106582817296\n"
     ]
    },
    {
     "name": "stderr",
     "output_type": "stream",
     "text": [
      "\n"
     ]
    }
   ],
   "source": [
    "n = 2                         #F2\n",
    "num_generations = 10\n",
    "miu = 1\n",
    "lam = 10\n",
    "\n",
    "best_solution = ES( miu, lam, n, num_generations)\n",
    "\n",
    "print(f\"best solution: {best_solution}\" )\n",
    "      \n",
    "print(\"############################################################\")\n",
    "print(f\" objective function: {-objective_function(best_solution, n)}\")"
   ]
  },
  {
   "cell_type": "code",
   "execution_count": 74,
   "metadata": {},
   "outputs": [
    {
     "name": "stderr",
     "output_type": "stream",
     "text": [
      "100%|██████████| 10/10 [00:01<00:00,  8.16it/s]"
     ]
    },
    {
     "name": "stdout",
     "output_type": "stream",
     "text": [
      "best solution: [-0.0909258   0.71090208  0.05        0.05013088]\n",
      "############################################################\n",
      " objective function: -1.0315968322109135\n"
     ]
    },
    {
     "name": "stderr",
     "output_type": "stream",
     "text": [
      "\n"
     ]
    }
   ],
   "source": [
    "n = 2                          #F2\n",
    "num_generations = 10\n",
    "miu = 5\n",
    "lam = 35\n",
    "\n",
    "best_solution = ES( miu, lam, n, num_generations)\n",
    "\n",
    "print(f\"best solution: {best_solution}\" )\n",
    "      \n",
    "print(\"############################################################\")\n",
    "print(f\" objective function: {-objective_function(best_solution, n)}\")"
   ]
  },
  {
   "cell_type": "code",
   "execution_count": 75,
   "metadata": {},
   "outputs": [
    {
     "name": "stderr",
     "output_type": "stream",
     "text": [
      "100%|██████████| 10/10 [00:04<00:00,  2.31it/s]"
     ]
    },
    {
     "name": "stdout",
     "output_type": "stream",
     "text": [
      "best solution: [-0.08760795  0.71254758  0.05        0.19201681]\n",
      "############################################################\n",
      " objective function: -1.0316091332218813\n"
     ]
    },
    {
     "name": "stderr",
     "output_type": "stream",
     "text": [
      "\n"
     ]
    }
   ],
   "source": [
    "n = 2                          #F2\n",
    "num_generations = 10\n",
    "miu = 10\n",
    "lam = 70\n",
    "\n",
    "best_solution = ES( miu, lam, n, num_generations)\n",
    "\n",
    "print(f\"best solution: {best_solution}\" )\n",
    "      \n",
    "print(\"############################################################\")\n",
    "print(f\" objective function: {-objective_function(best_solution, n)}\")"
   ]
  },
  {
   "cell_type": "code",
   "execution_count": 76,
   "metadata": {},
   "outputs": [
    {
     "name": "stderr",
     "output_type": "stream",
     "text": [
      "100%|██████████| 10/10 [00:25<00:00,  2.53s/it]"
     ]
    },
    {
     "name": "stdout",
     "output_type": "stream",
     "text": [
      "best solution: [ 0.09086459 -0.71244705  0.05        0.08702024]\n",
      "############################################################\n",
      " objective function: -1.031623804728561\n"
     ]
    },
    {
     "name": "stderr",
     "output_type": "stream",
     "text": [
      "\n"
     ]
    }
   ],
   "source": [
    "n = 2                          #F2\n",
    "num_generations = 10\n",
    "miu = 25\n",
    "lam = 175\n",
    "\n",
    "best_solution = ES( miu, lam, n, num_generations)\n",
    "\n",
    "print(f\"best solution: {best_solution}\" )\n",
    "      \n",
    "print(\"############################################################\")\n",
    "print(f\" objective function: {-objective_function(best_solution, n)}\")"
   ]
  },
  {
   "cell_type": "markdown",
   "metadata": {},
   "source": [
    "# F3"
   ]
  },
  {
   "cell_type": "code",
   "execution_count": 63,
   "metadata": {},
   "outputs": [],
   "source": [
    "min_bound = -10\n",
    "max_bound = 10"
   ]
  },
  {
   "cell_type": "code",
   "execution_count": 64,
   "metadata": {},
   "outputs": [],
   "source": [
    "def objective_function(dat , n): #F3\n",
    "    \n",
    "    dat = dat[:n]\n",
    "    summ = 0\n",
    "    for i in range(5):\n",
    "        x1 = dat[0]\n",
    "        x2 = dat[1]\n",
    "        tmp = math.cos((i+1)*x1+i)\n",
    "        tmp *= i\n",
    "        summ += tmp\n",
    "        x1 = dat[0]\n",
    "        x2 = dat[1]\n",
    "        tmp = math.cos((i+1)*x2+i)\n",
    "        summ += tmp\n",
    "        \n",
    "    return -summ"
   ]
  },
  {
   "cell_type": "code",
   "execution_count": 65,
   "metadata": {},
   "outputs": [
    {
     "name": "stderr",
     "output_type": "stream",
     "text": [
      "100%|██████████| 300/300 [00:02<00:00, 103.18it/s]"
     ]
    },
    {
     "name": "stdout",
     "output_type": "stream",
     "text": [
      "best solution: [-1.49611346 -1.57382932  0.07834916  0.11908932]\n",
      "############################################################\n",
      " objective function: -11.92919761738949\n"
     ]
    },
    {
     "name": "stderr",
     "output_type": "stream",
     "text": [
      "\n"
     ]
    }
   ],
   "source": [
    "n = 2                          #F3\n",
    "num_generations = 300\n",
    "miu = 1\n",
    "lam = 10\n",
    "\n",
    "best_solution = ES( miu, lam, n, num_generations)\n",
    "\n",
    "print(f\"best solution: {best_solution}\" )\n",
    "      \n",
    "print(\"############################################################\")\n",
    "print(f\" objective function: {-objective_function(best_solution, n)}\")"
   ]
  },
  {
   "cell_type": "code",
   "execution_count": 66,
   "metadata": {},
   "outputs": [
    {
     "name": "stderr",
     "output_type": "stream",
     "text": [
      "100%|██████████| 200/200 [00:25<00:00,  7.96it/s]"
     ]
    },
    {
     "name": "stdout",
     "output_type": "stream",
     "text": [
      "best solution: [-1.49779336  9.77978914  0.05        0.05      ]\n",
      "############################################################\n",
      " objective function: -9.974865314098693\n"
     ]
    },
    {
     "name": "stderr",
     "output_type": "stream",
     "text": [
      "\n"
     ]
    }
   ],
   "source": [
    "n = 2                          #F3\n",
    "num_generations = 200\n",
    "miu = 5\n",
    "lam = 35\n",
    "\n",
    "best_solution = ES( miu, lam, n, num_generations)\n",
    "\n",
    "print(f\"best solution: {best_solution}\" )\n",
    "      \n",
    "print(\"############################################################\")\n",
    "print(f\" objective function: {-objective_function(best_solution, n)}\")"
   ]
  },
  {
   "cell_type": "code",
   "execution_count": 67,
   "metadata": {},
   "outputs": [
    {
     "name": "stderr",
     "output_type": "stream",
     "text": [
      "100%|██████████| 150/150 [01:08<00:00,  2.19it/s]"
     ]
    },
    {
     "name": "stdout",
     "output_type": "stream",
     "text": [
      "best solution: [ 4.78305339 -1.57440006  0.05        0.05129621]\n",
      "############################################################\n",
      " objective function: -11.930706478332418\n"
     ]
    },
    {
     "name": "stderr",
     "output_type": "stream",
     "text": [
      "\n"
     ]
    }
   ],
   "source": [
    "n = 2                          #F3\n",
    "num_generations = 150\n",
    "miu = 10\n",
    "lam = 70\n",
    "\n",
    "best_solution = ES( miu, lam, n, num_generations)\n",
    "\n",
    "print(f\"best solution: {best_solution}\" )\n",
    "      \n",
    "print(\"############################################################\")\n",
    "print(f\" objective function: {-objective_function(best_solution, n)}\")"
   ]
  },
  {
   "cell_type": "code",
   "execution_count": 71,
   "metadata": {},
   "outputs": [
    {
     "name": "stderr",
     "output_type": "stream",
     "text": [
      "100%|██████████| 10/10 [00:27<00:00,  2.76s/it]"
     ]
    },
    {
     "name": "stdout",
     "output_type": "stream",
     "text": [
      "best solution: [-1.50024143  4.7108066   0.05        0.05      ]\n",
      "############################################################\n",
      " objective function: -11.93074923604131\n"
     ]
    },
    {
     "name": "stderr",
     "output_type": "stream",
     "text": [
      "\n"
     ]
    }
   ],
   "source": [
    "n = 2                          #F3\n",
    "num_generations = 10\n",
    "miu = 25\n",
    "lam = 175\n",
    "\n",
    "best_solution = ES( miu, lam, n, num_generations)\n",
    "\n",
    "print(f\"best solution: {best_solution}\" )\n",
    "      \n",
    "print(\"############################################################\")\n",
    "print(f\" objective function: {-objective_function(best_solution, n)}\")"
   ]
  }
 ],
 "metadata": {
  "kernelspec": {
   "display_name": "Python 3 (ipykernel)",
   "language": "python",
   "name": "python3"
  },
  "language_info": {
   "codemirror_mode": {
    "name": "ipython",
    "version": 3
   },
   "file_extension": ".py",
   "mimetype": "text/x-python",
   "name": "python",
   "nbconvert_exporter": "python",
   "pygments_lexer": "ipython3",
   "version": "3.12.2"
  }
 },
 "nbformat": 4,
 "nbformat_minor": 4
}
